{
 "cells": [
  {
   "cell_type": "code",
   "execution_count": 1,
   "id": "1a8747e9",
   "metadata": {},
   "outputs": [],
   "source": [
    "import pandas as pd"
   ]
  },
  {
   "cell_type": "code",
   "execution_count": 2,
   "id": "fe46ae5c",
   "metadata": {},
   "outputs": [],
   "source": [
    "CSV_PATH = 'output/uber_rides_enriched.csv'"
   ]
  },
  {
   "cell_type": "code",
   "execution_count": 3,
   "id": "4f20b489",
   "metadata": {},
   "outputs": [],
   "source": [
    "df = pd.read_csv(\n",
    "        CSV_PATH,\n",
    "        parse_dates=['start_at','end_at','arrived_at','time_grid'],\n",
    "    )"
   ]
  },
  {
   "cell_type": "code",
   "execution_count": 4,
   "id": "7c4f8adc",
   "metadata": {},
   "outputs": [
    {
     "name": "stdout",
     "output_type": "stream",
     "text": [
      "<class 'pandas.core.frame.DataFrame'>\n",
      "RangeIndex: 23111 entries, 0 to 23110\n",
      "Data columns (total 38 columns):\n",
      " #   Column                  Non-Null Count  Dtype         \n",
      "---  ------                  --------------  -----         \n",
      " 0   user_id                 23111 non-null  object        \n",
      " 1   driver_id               19726 non-null  object        \n",
      " 2   icon                    23111 non-null  object        \n",
      " 3   start_type              23111 non-null  object        \n",
      " 4   start_at                23111 non-null  datetime64[ns]\n",
      " 5   start_lat               22212 non-null  float64       \n",
      " 6   start_lon               22212 non-null  float64       \n",
      " 7   end_at                  22835 non-null  datetime64[ns]\n",
      " 8   end_lat                 22212 non-null  float64       \n",
      " 9   end_lon                 22212 non-null  float64       \n",
      " 10  end_state               23099 non-null  object        \n",
      " 11  driver_start_lat        18310 non-null  float64       \n",
      " 12  driver_start_lon        18310 non-null  float64       \n",
      " 13  arrived_at              17716 non-null  datetime64[ns]\n",
      " 14  price                   22713 non-null  float64       \n",
      " 15  price_distance          19941 non-null  float64       \n",
      " 16  price_duration          19941 non-null  float64       \n",
      " 17  distance                22848 non-null  float64       \n",
      " 18  duration                22848 non-null  float64       \n",
      " 19  cost                    21760 non-null  float64       \n",
      " 20  cost_distance           18038 non-null  float64       \n",
      " 21  cost_duration           18038 non-null  float64       \n",
      " 22  source                  22988 non-null  object        \n",
      " 23  driver_score            7650 non-null   float64       \n",
      " 24  rider_score             15390 non-null  float64       \n",
      " 25  dist_driver_to_start_m  18310 non-null  float64       \n",
      " 26  time_driver_to_start_s  18310 non-null  float64       \n",
      " 27  dist_start_to_end_m     22212 non-null  float64       \n",
      " 28  time_start_to_end_s     22212 non-null  float64       \n",
      " 29  lat_grid                13026 non-null  float64       \n",
      " 30  lon_grid                13026 non-null  float64       \n",
      " 31  time_grid               13925 non-null  datetime64[ns]\n",
      " 32  u10                     13026 non-null  float64       \n",
      " 33  v10                     13026 non-null  float64       \n",
      " 34  d2m                     13026 non-null  float64       \n",
      " 35  t2m                     13026 non-null  float64       \n",
      " 36  tcc                     13026 non-null  float64       \n",
      " 37  tp                      931 non-null    float64       \n",
      "dtypes: datetime64[ns](4), float64(28), object(6)\n",
      "memory usage: 6.7+ MB\n"
     ]
    }
   ],
   "source": [
    "df.info()"
   ]
  },
  {
   "cell_type": "code",
   "execution_count": 5,
   "id": "8cad9c11",
   "metadata": {},
   "outputs": [
    {
     "name": "stdout",
     "output_type": "stream",
     "text": [
      "Se eliminan 533 (2.31%) filas de un total de 23111\n"
     ]
    }
   ],
   "source": [
    "# Filas con coordenadas nulas y end_state == 'drop off'\n",
    "mask = (\n",
    "    df['start_lat'].isna() &\n",
    "    (df['end_state'] == 'drop off')\n",
    ")\n",
    "\n",
    "# Cuántas filas son\n",
    "print(f\"Se eliminan {mask.sum()} ({mask.sum()/len(df):.2%}) filas de un total de {len(df)}\")\n",
    "\n",
    "# Eliminar esas filas\n",
    "df = df.loc[~mask].copy()"
   ]
  },
  {
   "cell_type": "code",
   "execution_count": 6,
   "id": "3c897d6c",
   "metadata": {},
   "outputs": [],
   "source": [
    "df_drop = df[\n",
    "    df.end_state == 'drop off'\n",
    "]\n",
    "\n",
    "df_n = df[\n",
    "    ~(df.end_state == 'drop off')\n",
    "].drop(\n",
    "    columns=[\n",
    "        'end_lat',\n",
    "        'end_lon',\n",
    "        'arrived_at',\n",
    "        'price_distance',\n",
    "        'price_duration',\n",
    "        'distance',\n",
    "        'duration',\n",
    "        'cost',\n",
    "        'cost_distance',\n",
    "        'cost_duration',\n",
    "        'driver_score',\n",
    "        'rider_score',\n",
    "        'dist_start_to_end_m',\n",
    "        'time_start_to_end_s',\n",
    "    ]\n",
    ")"
   ]
  },
  {
   "cell_type": "code",
   "execution_count": 7,
   "id": "c4767d8e",
   "metadata": {},
   "outputs": [
    {
     "name": "stdout",
     "output_type": "stream",
     "text": [
      "<class 'pandas.core.frame.DataFrame'>\n",
      "Index: 16884 entries, 0 to 23108\n",
      "Data columns (total 38 columns):\n",
      " #   Column                  Non-Null Count  Dtype         \n",
      "---  ------                  --------------  -----         \n",
      " 0   user_id                 16884 non-null  object        \n",
      " 1   driver_id               16884 non-null  object        \n",
      " 2   icon                    16884 non-null  object        \n",
      " 3   start_type              16884 non-null  object        \n",
      " 4   start_at                16884 non-null  datetime64[ns]\n",
      " 5   start_lat               16884 non-null  float64       \n",
      " 6   start_lon               16884 non-null  float64       \n",
      " 7   end_at                  16880 non-null  datetime64[ns]\n",
      " 8   end_lat                 16884 non-null  float64       \n",
      " 9   end_lon                 16884 non-null  float64       \n",
      " 10  end_state               16884 non-null  object        \n",
      " 11  driver_start_lat        16180 non-null  float64       \n",
      " 12  driver_start_lon        16180 non-null  float64       \n",
      " 13  arrived_at              16883 non-null  datetime64[ns]\n",
      " 14  price                   16879 non-null  float64       \n",
      " 15  price_distance          16883 non-null  float64       \n",
      " 16  price_duration          16883 non-null  float64       \n",
      " 17  distance                16884 non-null  float64       \n",
      " 18  duration                16884 non-null  float64       \n",
      " 19  cost                    15953 non-null  float64       \n",
      " 20  cost_distance           15078 non-null  float64       \n",
      " 21  cost_duration           15078 non-null  float64       \n",
      " 22  source                  16787 non-null  object        \n",
      " 23  driver_score            7478 non-null   float64       \n",
      " 24  rider_score             14930 non-null  float64       \n",
      " 25  dist_driver_to_start_m  16180 non-null  float64       \n",
      " 26  time_driver_to_start_s  16180 non-null  float64       \n",
      " 27  dist_start_to_end_m     16884 non-null  float64       \n",
      " 28  time_start_to_end_s     16884 non-null  float64       \n",
      " 29  lat_grid                9886 non-null   float64       \n",
      " 30  lon_grid                9886 non-null   float64       \n",
      " 31  time_grid               9886 non-null   datetime64[ns]\n",
      " 32  u10                     9886 non-null   float64       \n",
      " 33  v10                     9886 non-null   float64       \n",
      " 34  d2m                     9886 non-null   float64       \n",
      " 35  t2m                     9886 non-null   float64       \n",
      " 36  tcc                     9886 non-null   float64       \n",
      " 37  tp                      665 non-null    float64       \n",
      "dtypes: datetime64[ns](4), float64(28), object(6)\n",
      "memory usage: 5.0+ MB\n"
     ]
    }
   ],
   "source": [
    "df_drop.info()"
   ]
  },
  {
   "cell_type": "code",
   "execution_count": 8,
   "id": "2d0ee868",
   "metadata": {},
   "outputs": [
    {
     "name": "stdout",
     "output_type": "stream",
     "text": [
      "Valores de espera a reemplazar por API: 10519\n",
      "Valores de viaje a reemplazar por API: 9034\n",
      "Total de filas a usar dato de API: 13537\n"
     ]
    }
   ],
   "source": [
    "# Series de valores calculados\n",
    "t_api_wait = df_drop['time_driver_to_start_s']\n",
    "t_calc_wait = (df_drop['arrived_at'] - df_drop['start_at']).dt.total_seconds().clip(lower=0)\n",
    "\n",
    "t_api_trip = df_drop['time_start_to_end_s']\n",
    "t_calc_trip = (\n",
    "    df_drop['end_at']\n",
    "    - pd.DataFrame({'1': df_drop['start_at'], '2': df_drop['arrived_at']})\n",
    "      .max(axis=1)\n",
    ")\n",
    "t_calc_trip = t_calc_trip.dt.total_seconds()\n",
    "\n",
    "# Error porcentual\n",
    "err_wait_pct = (t_api_wait - t_calc_wait).abs() / t_api_wait * 100\n",
    "err_trip_pct = (t_api_trip - t_calc_trip).abs() / t_api_trip * 100\n",
    "\n",
    "# Umbral del 20%\n",
    "mask_wait = err_wait_pct > 50\n",
    "mask_trip = err_trip_pct > 50\n",
    "mask_any  = mask_wait | mask_trip\n",
    "\n",
    "# Imprimir conteos\n",
    "print(f\"Valores de espera a reemplazar por API: {mask_wait.sum()}\")\n",
    "print(f\"Valores de viaje a reemplazar por API: {mask_trip.sum()}\")\n",
    "print(f\"Total de filas a usar dato de API: {mask_any.sum()}\")\n",
    "\n",
    "# DataFrame de filas para reemplazo\n",
    "df_flag = df_drop.loc[mask_any].copy()\n",
    "df_flag['err_wait_pct'] = err_wait_pct[mask_any]\n",
    "df_flag['err_trip_pct'] = err_trip_pct[mask_any]\n"
   ]
  },
  {
   "cell_type": "code",
   "execution_count": 9,
   "id": "755a3e83",
   "metadata": {},
   "outputs": [
    {
     "name": "stdout",
     "output_type": "stream",
     "text": [
      "Filas modificadas: 13537\n"
     ]
    }
   ],
   "source": [
    "# Reemplazar las columnas de fechas por NaT en las filas que superen el umbral\n",
    "#   Para las discrepancias de espera, anulamos 'arrived_at' (así falla el cálculo de espera).\n",
    "df_drop.loc[mask_wait, ['arrived_at']] = pd.NaT\n",
    "\n",
    "#   Para las discrepancias de trayecto, anulamos 'end_at' (así falla el cálculo de duración de viaje).\n",
    "df_drop.loc[mask_trip, ['end_at']]      = pd.NaT\n",
    "\n",
    "# Verificación\n",
    "print(f\"Filas modificadas: {mask_any.sum()}\")\n"
   ]
  }
 ],
 "metadata": {
  "kernelspec": {
   "display_name": "Python 3",
   "language": "python",
   "name": "python3"
  },
  "language_info": {
   "codemirror_mode": {
    "name": "ipython",
    "version": 3
   },
   "file_extension": ".py",
   "mimetype": "text/x-python",
   "name": "python",
   "nbconvert_exporter": "python",
   "pygments_lexer": "ipython3",
   "version": "3.12.6"
  }
 },
 "nbformat": 4,
 "nbformat_minor": 5
}
