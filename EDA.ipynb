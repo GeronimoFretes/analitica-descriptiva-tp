{
 "cells": [
  {
   "cell_type": "code",
   "execution_count": 1,
   "id": "279d616c",
   "metadata": {},
   "outputs": [],
   "source": [
    "import pandas as pd\n",
    "import tempfile\n",
    "import os\n",
    "import altair as alt\n",
    "import numpy as np\n",
    "import folium\n",
    "from folium.plugins import MarkerCluster\n",
    "import geopandas as gpd\n",
    "from shapely.geometry import Point\n",
    "import osmnx as ox\n",
    "import json\n",
    "import time\n",
    "import matplotlib.pyplot as plt"
   ]
  },
  {
   "cell_type": "code",
   "execution_count": 3,
   "id": "60c543f1",
   "metadata": {},
   "outputs": [],
   "source": [
    "df = pd.read_csv('output\\\\uber_rides_enriched.csv')"
   ]
  },
  {
   "cell_type": "code",
   "execution_count": 4,
   "id": "98599f19",
   "metadata": {},
   "outputs": [
    {
     "name": "stdout",
     "output_type": "stream",
     "text": [
      "<class 'pandas.core.frame.DataFrame'>\n",
      "RangeIndex: 23111 entries, 0 to 23110\n",
      "Data columns (total 38 columns):\n",
      " #   Column                  Non-Null Count  Dtype  \n",
      "---  ------                  --------------  -----  \n",
      " 0   user_id                 23111 non-null  object \n",
      " 1   driver_id               19726 non-null  object \n",
      " 2   icon                    23111 non-null  object \n",
      " 3   start_type              23111 non-null  object \n",
      " 4   start_at                23111 non-null  object \n",
      " 5   start_lat               22212 non-null  float64\n",
      " 6   start_lon               22212 non-null  float64\n",
      " 7   end_at                  22835 non-null  object \n",
      " 8   end_lat                 22212 non-null  float64\n",
      " 9   end_lon                 22212 non-null  float64\n",
      " 10  end_state               23099 non-null  object \n",
      " 11  driver_start_lat        18310 non-null  float64\n",
      " 12  driver_start_lon        18310 non-null  float64\n",
      " 13  arrived_at              17716 non-null  object \n",
      " 14  price                   22713 non-null  float64\n",
      " 15  price_distance          19941 non-null  float64\n",
      " 16  price_duration          19941 non-null  float64\n",
      " 17  distance                22848 non-null  float64\n",
      " 18  duration                22848 non-null  float64\n",
      " 19  cost                    21760 non-null  float64\n",
      " 20  cost_distance           18038 non-null  float64\n",
      " 21  cost_duration           18038 non-null  float64\n",
      " 22  source                  22988 non-null  object \n",
      " 23  driver_score            7650 non-null   float64\n",
      " 24  rider_score             15390 non-null  float64\n",
      " 25  dist_driver_to_start_m  18310 non-null  float64\n",
      " 26  time_driver_to_start_s  18310 non-null  float64\n",
      " 27  dist_start_to_end_m     22212 non-null  float64\n",
      " 28  time_start_to_end_s     22212 non-null  float64\n",
      " 29  lat_grid                13026 non-null  float64\n",
      " 30  lon_grid                13026 non-null  float64\n",
      " 31  time_grid               13925 non-null  object \n",
      " 32  u10                     13026 non-null  float64\n",
      " 33  v10                     13026 non-null  float64\n",
      " 34  d2m                     13026 non-null  float64\n",
      " 35  t2m                     13026 non-null  float64\n",
      " 36  tcc                     13026 non-null  float64\n",
      " 37  tp                      931 non-null    float64\n",
      "dtypes: float64(28), object(10)\n",
      "memory usage: 6.7+ MB\n"
     ]
    }
   ],
   "source": [
    "df.info()"
   ]
  },
  {
   "cell_type": "code",
   "execution_count": 24,
   "id": "7af171ed",
   "metadata": {},
   "outputs": [],
   "source": [
    "to_date = lambda x : pd.to_datetime(x, dayfirst=True)\n",
    "for col in ('start_at','end_at','arrived_at') :\n",
    "     df[col] = df[col].apply(to_date)"
   ]
  },
  {
   "cell_type": "code",
   "execution_count": 45,
   "id": "a29f46ec",
   "metadata": {},
   "outputs": [],
   "source": [
    "# Calcular el máximo y el mínimo entre start_at y arrived_at\n",
    "max_inicio = df[['start_at', 'arrived_at']].max(axis=1)\n",
    "min_inicio = df[['start_at', 'arrived_at']].min(axis=1)\n",
    "\n",
    "# Usar el máximo si es menor a end_at, si no usar el mínimo\n",
    "inicio_utilizado = np.where(max_inicio < df['end_at'], max_inicio, min_inicio)\n",
    "\n",
    "# Calcular duración\n",
    "df['duration_min'] = (df['end_at'] - pd.to_datetime(inicio_utilizado)).dt.total_seconds() / 60\n"
   ]
  },
  {
   "cell_type": "code",
   "execution_count": 46,
   "id": "acfdaff2",
   "metadata": {},
   "outputs": [],
   "source": [
    "df.loc[df['start_at'] > df['end_at'],'duration_min']=np.nan"
   ]
  },
  {
   "cell_type": "code",
   "execution_count": 51,
   "id": "47a631d8",
   "metadata": {},
   "outputs": [],
   "source": [
    "def outliers(\n",
    "    df : pd.DataFrame,\n",
    "    col : str,\n",
    "    rango : range = range(0,101),\n",
    "    intervalo : int = 1000\n",
    ") :\n",
    "    '''\n",
    "    Genera un gráfico interactivo de línea que muestra el valor de cada percentil\n",
    "    de la columna especificada.\n",
    "\n",
    "    Parámetros\n",
    "    ----------\n",
    "    df : pd.DataFrame\n",
    "        DataFrame de entrada; se eliminan filas con valores NaN en `start_lat`.\n",
    "    col : str\n",
    "        Nombre de la columna de la que calcular los percentiles.\n",
    "    rango : range, opcional\n",
    "        Rango de percentiles a evaluar (por defecto 0-100).\n",
    "    intervalo : int, opcional\n",
    "        Número de divisiones usadas para calcular los quantiles (por defecto 1000).\n",
    "\n",
    "    Devuelve\n",
    "    -------\n",
    "    alt.Chart\n",
    "        Gráfico Altair interactivo con percentil (eje x) vs. valor (eje y).\n",
    "    '''\n",
    "    df = df.dropna(subset='start_lat')\n",
    "    resultados = []\n",
    "    \n",
    "    for i in rango:\n",
    "        valor = df[col].quantile(i / intervalo)\n",
    "        resultados.append(\n",
    "            {\n",
    "                'p' : i/(intervalo/100),\n",
    "                'valor' : valor\n",
    "            }\n",
    "        )\n",
    "\n",
    "    df_res = pd.DataFrame(resultados)\n",
    "\n",
    "    chart = (\n",
    "        alt.Chart(df_res, width=700, height=400)\n",
    "        .mark_line(point=True)\n",
    "        .encode(\n",
    "            x=alt.X('p:Q', title='Percentil (p)'),\n",
    "            y=alt.Y('valor:Q', title='Distancia'),\n",
    "            tooltip=[\n",
    "                alt.Tooltip('p:Q', format='.1f', title='p'),\n",
    "                alt.Tooltip('valor:Q', format='.2f', title='distancia')\n",
    "            ]\n",
    "        )\n",
    "        .interactive()\n",
    "    )\n",
    "\n",
    "    return chart"
   ]
  },
  {
   "cell_type": "code",
   "execution_count": 47,
   "id": "5228babd",
   "metadata": {},
   "outputs": [],
   "source": [
    "df_drop = df.loc[df['end_state']=='drop off']\n",
    "df_cancel = df.loc[df['end_state']!='drop off']"
   ]
  },
  {
   "cell_type": "code",
   "execution_count": 48,
   "id": "2917c516",
   "metadata": {},
   "outputs": [
    {
     "name": "stderr",
     "output_type": "stream",
     "text": [
      "C:\\Users\\Saroka\\AppData\\Local\\Temp\\ipykernel_15308\\1985263226.py:1: SettingWithCopyWarning: \n",
      "A value is trying to be set on a copy of a slice from a DataFrame\n",
      "\n",
      "See the caveats in the documentation: https://pandas.pydata.org/pandas-docs/stable/user_guide/indexing.html#returning-a-view-versus-a-copy\n",
      "  df_cancel.drop(columns=['arrived_at','price','price_distance','price_duration','distance','duration','cost','cost_distance','cost_duration','driver_score','rider_score'],inplace=True)\n"
     ]
    }
   ],
   "source": [
    "df_cancel.drop(columns=['arrived_at','price','price_distance','price_duration','distance','duration','cost','cost_distance','cost_duration','driver_score','rider_score'],inplace=True)"
   ]
  },
  {
   "cell_type": "code",
   "execution_count": 73,
   "id": "2699e0ac",
   "metadata": {},
   "outputs": [
    {
     "data": {
      "text/html": [
       "\n",
       "<style>\n",
       "  #altair-viz-54458166fc7e42a486318e519dedf47a.vega-embed {\n",
       "    width: 100%;\n",
       "    display: flex;\n",
       "  }\n",
       "\n",
       "  #altair-viz-54458166fc7e42a486318e519dedf47a.vega-embed details,\n",
       "  #altair-viz-54458166fc7e42a486318e519dedf47a.vega-embed details summary {\n",
       "    position: relative;\n",
       "  }\n",
       "</style>\n",
       "<div id=\"altair-viz-54458166fc7e42a486318e519dedf47a\"></div>\n",
       "<script type=\"text/javascript\">\n",
       "  var VEGA_DEBUG = (typeof VEGA_DEBUG == \"undefined\") ? {} : VEGA_DEBUG;\n",
       "  (function(spec, embedOpt){\n",
       "    let outputDiv = document.currentScript.previousElementSibling;\n",
       "    if (outputDiv.id !== \"altair-viz-54458166fc7e42a486318e519dedf47a\") {\n",
       "      outputDiv = document.getElementById(\"altair-viz-54458166fc7e42a486318e519dedf47a\");\n",
       "    }\n",
       "    const paths = {\n",
       "      \"vega\": \"https://cdn.jsdelivr.net/npm/vega@5?noext\",\n",
       "      \"vega-lib\": \"https://cdn.jsdelivr.net/npm/vega-lib?noext\",\n",
       "      \"vega-lite\": \"https://cdn.jsdelivr.net/npm/vega-lite@5.20.1?noext\",\n",
       "      \"vega-embed\": \"https://cdn.jsdelivr.net/npm/vega-embed@6?noext\",\n",
       "    };\n",
       "\n",
       "    function maybeLoadScript(lib, version) {\n",
       "      var key = `${lib.replace(\"-\", \"\")}_version`;\n",
       "      return (VEGA_DEBUG[key] == version) ?\n",
       "        Promise.resolve(paths[lib]) :\n",
       "        new Promise(function(resolve, reject) {\n",
       "          var s = document.createElement('script');\n",
       "          document.getElementsByTagName(\"head\")[0].appendChild(s);\n",
       "          s.async = true;\n",
       "          s.onload = () => {\n",
       "            VEGA_DEBUG[key] = version;\n",
       "            return resolve(paths[lib]);\n",
       "          };\n",
       "          s.onerror = () => reject(`Error loading script: ${paths[lib]}`);\n",
       "          s.src = paths[lib];\n",
       "        });\n",
       "    }\n",
       "\n",
       "    function showError(err) {\n",
       "      outputDiv.innerHTML = `<div class=\"error\" style=\"color:red;\">${err}</div>`;\n",
       "      throw err;\n",
       "    }\n",
       "\n",
       "    function displayChart(vegaEmbed) {\n",
       "      vegaEmbed(outputDiv, spec, embedOpt)\n",
       "        .catch(err => showError(`Javascript Error: ${err.message}<br>This usually means there's a typo in your chart specification. See the javascript console for the full traceback.`));\n",
       "    }\n",
       "\n",
       "    if(typeof define === \"function\" && define.amd) {\n",
       "      requirejs.config({paths});\n",
       "      require([\"vega-embed\"], displayChart, err => showError(`Error loading script: ${err.message}`));\n",
       "    } else {\n",
       "      maybeLoadScript(\"vega\", \"5\")\n",
       "        .then(() => maybeLoadScript(\"vega-lite\", \"5.20.1\"))\n",
       "        .then(() => maybeLoadScript(\"vega-embed\", \"6\"))\n",
       "        .catch(showError)\n",
       "        .then(() => displayChart(vegaEmbed));\n",
       "    }\n",
       "  })({\"config\": {\"view\": {\"continuousWidth\": 300, \"continuousHeight\": 300}}, \"data\": {\"name\": \"data-2c99999cf787f7e14c112b2f3b2a6489\"}, \"mark\": {\"type\": \"line\", \"point\": true}, \"encoding\": {\"tooltip\": [{\"field\": \"p\", \"format\": \".1f\", \"title\": \"p\", \"type\": \"quantitative\"}, {\"field\": \"valor\", \"format\": \".2f\", \"title\": \"distancia\", \"type\": \"quantitative\"}], \"x\": {\"field\": \"p\", \"title\": \"Percentil (p)\", \"type\": \"quantitative\"}, \"y\": {\"field\": \"valor\", \"title\": \"Distancia\", \"type\": \"quantitative\"}}, \"height\": 400, \"params\": [{\"name\": \"param_17\", \"select\": {\"type\": \"interval\", \"encodings\": [\"x\", \"y\"]}, \"bind\": \"scales\"}], \"width\": 700, \"$schema\": \"https://vega.github.io/schema/vega-lite/v5.20.1.json\", \"datasets\": {\"data-2c99999cf787f7e14c112b2f3b2a6489\": [{\"p\": 90.0, \"valor\": 67.0}, {\"p\": 91.0, \"valor\": 71.0}, {\"p\": 92.0, \"valor\": 75.0}, {\"p\": 93.0, \"valor\": 81.0}, {\"p\": 94.0, \"valor\": 89.0}, {\"p\": 95.0, \"valor\": 100.0}, {\"p\": 96.0, \"valor\": 118.59999999999854}, {\"p\": 97.0, \"valor\": 164.0}, {\"p\": 98.0, \"valor\": 294.2999999999993}]}}, {\"mode\": \"vega-lite\"});\n",
       "</script>"
      ],
      "text/plain": [
       "alt.Chart(...)"
      ]
     },
     "execution_count": 73,
     "metadata": {},
     "output_type": "execute_result"
    }
   ],
   "source": [
    "outliers(df_drop,'duration_min',range(90,99),100)"
   ]
  },
  {
   "cell_type": "code",
   "execution_count": 93,
   "id": "ddf62731",
   "metadata": {},
   "outputs": [
    {
     "name": "stderr",
     "output_type": "stream",
     "text": [
      "C:\\Users\\Saroka\\AppData\\Local\\Temp\\ipykernel_15308\\428656771.py:1: SettingWithCopyWarning: \n",
      "A value is trying to be set on a copy of a slice from a DataFrame.\n",
      "Try using .loc[row_indexer,col_indexer] = value instead\n",
      "\n",
      "See the caveats in the documentation: https://pandas.pydata.org/pandas-docs/stable/user_guide/indexing.html#returning-a-view-versus-a-copy\n",
      "  df_drop['duration_diff']=df_drop['duration_min'] - (df_drop['time_start_to_end_s']/60)\n"
     ]
    },
    {
     "data": {
      "text/html": [
       "<div>\n",
       "<style scoped>\n",
       "    .dataframe tbody tr th:only-of-type {\n",
       "        vertical-align: middle;\n",
       "    }\n",
       "\n",
       "    .dataframe tbody tr th {\n",
       "        vertical-align: top;\n",
       "    }\n",
       "\n",
       "    .dataframe thead th {\n",
       "        text-align: right;\n",
       "    }\n",
       "</style>\n",
       "<table border=\"1\" class=\"dataframe\">\n",
       "  <thead>\n",
       "    <tr style=\"text-align: right;\">\n",
       "      <th></th>\n",
       "      <th>start_at</th>\n",
       "      <th>arrived_at</th>\n",
       "      <th>end_at</th>\n",
       "      <th>duration_diff</th>\n",
       "      <th>time_start_to_end_s</th>\n",
       "      <th>duration_min</th>\n",
       "      <th>dist_start_to_end_m</th>\n",
       "    </tr>\n",
       "  </thead>\n",
       "  <tbody>\n",
       "    <tr>\n",
       "      <th>5342</th>\n",
       "      <td>2010-05-31 19:10:00</td>\n",
       "      <td>2010-05-31 19:11:00</td>\n",
       "      <td>2010-05-31 19:13:00</td>\n",
       "      <td>-58.733333</td>\n",
       "      <td>3644.0</td>\n",
       "      <td>2.0</td>\n",
       "      <td>24157.0</td>\n",
       "    </tr>\n",
       "  </tbody>\n",
       "</table>\n",
       "</div>"
      ],
      "text/plain": [
       "                start_at          arrived_at              end_at  \\\n",
       "5342 2010-05-31 19:10:00 2010-05-31 19:11:00 2010-05-31 19:13:00   \n",
       "\n",
       "      duration_diff  time_start_to_end_s  duration_min  dist_start_to_end_m  \n",
       "5342     -58.733333               3644.0           2.0              24157.0  "
      ]
     },
     "execution_count": 93,
     "metadata": {},
     "output_type": "execute_result"
    }
   ],
   "source": [
    "df_drop['duration_diff']=df_drop['duration_min'] - (df_drop['time_start_to_end_s']/60)\n",
    "df_drop['duration_diff'].describe()\n",
    "df_drop.loc[df_drop['duration_diff'].min()==df_drop['duration_diff'],['start_at','arrived_at','end_at','duration_diff','time_start_to_end_s','duration_min','dist_start_to_end_m']]"
   ]
  },
  {
   "cell_type": "code",
   "execution_count": null,
   "id": "ea62b9d6",
   "metadata": {},
   "outputs": [
    {
     "data": {
      "text/html": [
       "\n",
       "<style>\n",
       "  #altair-viz-c13f435a444946bb91f3d301562722ce.vega-embed {\n",
       "    width: 100%;\n",
       "    display: flex;\n",
       "  }\n",
       "\n",
       "  #altair-viz-c13f435a444946bb91f3d301562722ce.vega-embed details,\n",
       "  #altair-viz-c13f435a444946bb91f3d301562722ce.vega-embed details summary {\n",
       "    position: relative;\n",
       "  }\n",
       "</style>\n",
       "<div id=\"altair-viz-c13f435a444946bb91f3d301562722ce\"></div>\n",
       "<script type=\"text/javascript\">\n",
       "  var VEGA_DEBUG = (typeof VEGA_DEBUG == \"undefined\") ? {} : VEGA_DEBUG;\n",
       "  (function(spec, embedOpt){\n",
       "    let outputDiv = document.currentScript.previousElementSibling;\n",
       "    if (outputDiv.id !== \"altair-viz-c13f435a444946bb91f3d301562722ce\") {\n",
       "      outputDiv = document.getElementById(\"altair-viz-c13f435a444946bb91f3d301562722ce\");\n",
       "    }\n",
       "    const paths = {\n",
       "      \"vega\": \"https://cdn.jsdelivr.net/npm/vega@5?noext\",\n",
       "      \"vega-lib\": \"https://cdn.jsdelivr.net/npm/vega-lib?noext\",\n",
       "      \"vega-lite\": \"https://cdn.jsdelivr.net/npm/vega-lite@5.20.1?noext\",\n",
       "      \"vega-embed\": \"https://cdn.jsdelivr.net/npm/vega-embed@6?noext\",\n",
       "    };\n",
       "\n",
       "    function maybeLoadScript(lib, version) {\n",
       "      var key = `${lib.replace(\"-\", \"\")}_version`;\n",
       "      return (VEGA_DEBUG[key] == version) ?\n",
       "        Promise.resolve(paths[lib]) :\n",
       "        new Promise(function(resolve, reject) {\n",
       "          var s = document.createElement('script');\n",
       "          document.getElementsByTagName(\"head\")[0].appendChild(s);\n",
       "          s.async = true;\n",
       "          s.onload = () => {\n",
       "            VEGA_DEBUG[key] = version;\n",
       "            return resolve(paths[lib]);\n",
       "          };\n",
       "          s.onerror = () => reject(`Error loading script: ${paths[lib]}`);\n",
       "          s.src = paths[lib];\n",
       "        });\n",
       "    }\n",
       "\n",
       "    function showError(err) {\n",
       "      outputDiv.innerHTML = `<div class=\"error\" style=\"color:red;\">${err}</div>`;\n",
       "      throw err;\n",
       "    }\n",
       "\n",
       "    function displayChart(vegaEmbed) {\n",
       "      vegaEmbed(outputDiv, spec, embedOpt)\n",
       "        .catch(err => showError(`Javascript Error: ${err.message}<br>This usually means there's a typo in your chart specification. See the javascript console for the full traceback.`));\n",
       "    }\n",
       "\n",
       "    if(typeof define === \"function\" && define.amd) {\n",
       "      requirejs.config({paths});\n",
       "      require([\"vega-embed\"], displayChart, err => showError(`Error loading script: ${err.message}`));\n",
       "    } else {\n",
       "      maybeLoadScript(\"vega\", \"5\")\n",
       "        .then(() => maybeLoadScript(\"vega-lite\", \"5.20.1\"))\n",
       "        .then(() => maybeLoadScript(\"vega-embed\", \"6\"))\n",
       "        .catch(showError)\n",
       "        .then(() => displayChart(vegaEmbed));\n",
       "    }\n",
       "  })({\"config\": {\"view\": {\"continuousWidth\": 300, \"continuousHeight\": 300}}, \"data\": {\"name\": \"data-f1a2a400801ca84824d3df456634661a\"}, \"mark\": {\"type\": \"line\", \"point\": true}, \"encoding\": {\"tooltip\": [{\"field\": \"p\", \"format\": \".1f\", \"title\": \"p\", \"type\": \"quantitative\"}, {\"field\": \"valor\", \"format\": \".2f\", \"title\": \"distancia\", \"type\": \"quantitative\"}], \"x\": {\"field\": \"p\", \"title\": \"Percentil (p)\", \"type\": \"quantitative\"}, \"y\": {\"field\": \"valor\", \"title\": \"Distancia\", \"type\": \"quantitative\"}}, \"height\": 400, \"params\": [{\"name\": \"param_23\", \"select\": {\"type\": \"interval\", \"encodings\": [\"x\", \"y\"]}, \"bind\": \"scales\"}], \"width\": 700, \"$schema\": \"https://vega.github.io/schema/vega-lite/v5.20.1.json\", \"datasets\": {\"data-f1a2a400801ca84824d3df456634661a\": [{\"p\": 0.0, \"valor\": -58.733333333333334}, {\"p\": 1.0, \"valor\": -31.685833333333335}, {\"p\": 2.0, \"valor\": -23.076666666666668}, {\"p\": 3.0, \"valor\": -19.016666666666666}, {\"p\": 4.0, \"valor\": -15.7}, {\"p\": 5.0, \"valor\": -13.087499999999999}, {\"p\": 6.0, \"valor\": -10.980000000000004}, {\"p\": 7.0, \"valor\": -9.283333333333335}, {\"p\": 8.0, \"valor\": -8.170000000000002}, {\"p\": 9.0, \"valor\": -7.149999999999999}, {\"p\": 10.0, \"valor\": -6.316666666666666}, {\"p\": 11.0, \"valor\": -5.583333333333332}, {\"p\": 12.0, \"valor\": -4.883333333333333}, {\"p\": 13.0, \"valor\": -4.25}, {\"p\": 14.0, \"valor\": -3.7333333333333343}, {\"p\": 15.0, \"valor\": -3.3}, {\"p\": 16.0, \"valor\": -2.799999999999998}, {\"p\": 17.0, \"valor\": -2.434166666666662}, {\"p\": 18.0, \"valor\": -2.0666666666666664}, {\"p\": 19.0, \"valor\": -1.6499999999999986}, {\"p\": 20.0, \"valor\": -1.3166666666666664}, {\"p\": 21.0, \"valor\": -1.0275000000000016}, {\"p\": 22.0, \"valor\": -0.6999999999999993}, {\"p\": 23.0, \"valor\": -0.40000000000000036}, {\"p\": 24.0, \"valor\": -0.11000000000000691}, {\"p\": 25.0, \"valor\": 0.16666666666666785}, {\"p\": 26.0, \"valor\": 0.45166666666667193}, {\"p\": 27.0, \"valor\": 0.8000000000000007}, {\"p\": 28.0, \"valor\": 1.083333333333334}, {\"p\": 29.0, \"valor\": 1.416666666666666}, {\"p\": 30.0, \"valor\": 1.666666666666666}, {\"p\": 31.0, \"valor\": 1.9666666666666668}, {\"p\": 32.0, \"valor\": 2.2666666666666675}, {\"p\": 33.0, \"valor\": 2.533333333333333}, {\"p\": 34.0, \"valor\": 2.8166666666666664}, {\"p\": 35.0, \"valor\": 3.1000000000000014}, {\"p\": 36.0, \"valor\": 3.416666666666668}, {\"p\": 37.0, \"valor\": 3.7333333333333343}, {\"p\": 38.0, \"valor\": 4.016666666666666}, {\"p\": 39.0, \"valor\": 4.300000000000001}, {\"p\": 40.0, \"valor\": 4.583333333333334}, {\"p\": 41.0, \"valor\": 4.899999999999999}, {\"p\": 42.0, \"valor\": 5.183333333333334}, {\"p\": 43.0, \"valor\": 5.467500000000003}, {\"p\": 44.0, \"valor\": 5.816666666666666}, {\"p\": 45.0, \"valor\": 6.166666666666666}, {\"p\": 46.0, \"valor\": 6.449999999999999}, {\"p\": 47.0, \"valor\": 6.783333333333333}, {\"p\": 48.0, \"valor\": 7.116666666666667}, {\"p\": 49.0, \"valor\": 7.4}]}}, {\"mode\": \"vega-lite\"});\n",
       "</script>"
      ],
      "text/plain": [
       "alt.Chart(...)"
      ]
     },
     "execution_count": 85,
     "metadata": {},
     "output_type": "execute_result"
    }
   ],
   "source": [
    "outliers(df_drop,'duration_diff',range(0,50),100)"
   ]
  }
 ],
 "metadata": {
  "kernelspec": {
   "display_name": "Python 3",
   "language": "python",
   "name": "python3"
  },
  "language_info": {
   "codemirror_mode": {
    "name": "ipython",
    "version": 3
   },
   "file_extension": ".py",
   "mimetype": "text/x-python",
   "name": "python",
   "nbconvert_exporter": "python",
   "pygments_lexer": "ipython3",
   "version": "3.11.4"
  }
 },
 "nbformat": 4,
 "nbformat_minor": 5
}
